{
 "cells": [
  {
   "cell_type": "markdown",
   "metadata": {},
   "source": [
    "# Sanity Check For Rectified Flow\n",
    "\n",
    "This notebook is a sanity check to make sure my code for Rectified Flow training works"
   ]
  },
  {
   "cell_type": "code",
   "execution_count": 5,
   "metadata": {
    "scrolled": true
   },
   "outputs": [
    {
     "name": "stdout",
     "output_type": "stream",
     "text": [
      "C:\\Users\\Shahbuland\\Documents\\neural-net\\game_gen\n"
     ]
    }
   ],
   "source": [
    "%pwd\n",
    "%cd C:\\\\Users\\\\Shahbuland\\\\Documents\\\\neural-net\\\\game_gen"
   ]
  },
  {
   "cell_type": "code",
   "execution_count": 7,
   "metadata": {},
   "outputs": [
    {
     "data": {
      "text/plain": [
       "'C:\\\\Users\\\\Shahbuland\\\\Documents\\\\neural-net\\\\game_gen'"
      ]
     },
     "execution_count": 7,
     "metadata": {},
     "output_type": "execute_result"
    }
   ],
   "source": [
    "%pwd"
   ]
  },
  {
   "cell_type": "code",
   "execution_count": 1,
   "metadata": {},
   "outputs": [],
   "source": [
    "# Define dataset and collator\n",
    "\n",
    "from torch.utils.data import Dataset, DataLoader\n",
    "from datasets import load_dataset\n",
    "\n",
    "class PokemonDataset(Dataset):\n",
    "    def __init__():\n",
    "        super().__init__()\n",
    "\n",
    "        self.ds = load_dataset(\"lambdalabs/pokemon-blip-captions\")['train']\n",
    "        self.ds = [row for row in self.ds if 'text' in row and len(row['text']) > 0]\n",
    "\n",
    "    def __getitem__(self, idx):\n",
    "        return self.ds[idx]\n",
    "    \n",
    "    def __len__(self):\n",
    "        return len(self.ds)\n",
    "\n",
    "class PokemonCollator:\n",
    "    def __init__(self, tokenizer, image_size = 32, cfg_prob = 0.1):\n",
    "        self.tokenizer = tokenizer\n",
    "        self.cfg_prob = 0.1\n",
    "    \n",
    "    def __call__(self, batch):\n",
    "        images = [d['image'] for d in batch]\n",
    "        captions = [d['text'] if random.random() >= self.cfg_prob else \"\" for d in batch]\n",
    "\n",
    "        transform = transforms.Compose([\n",
    "            transforms.Resize((self.image_size, self.image_size)),\n",
    "            transforms.ToTensor(),\n",
    "            transforms.Normalize((0.5, 0.5, 0.5), (0.5, 0.5, 0.5)),\n",
    "            transforms.RandomHorizontalFlip()\n",
    "        ])\n",
    "\n",
    "        images = [transform(img) for img in images]\n",
    "        images = torch.stack(images)\n",
    "\n",
    "        tokenizer_out = self.tokenizer(captions, return_tensors='pt', padding='max_length', truncation=True, max_length=77)\n",
    "        input_ids = tokenizer_out['input_ids']\n",
    "        attention_mask = tokenizer_out['attention_mask']\n",
    "\n",
    "        # Turn the images into mock videos\n",
    "        videos = eo.repeat(images, 'b c h w -> b n c h w', n = self.target_frames).contiguous()\n",
    "\n",
    "        return {\n",
    "            \"pixel_values\" : videos,\n",
    "            \"input_ids\" : input_ids,\n",
    "            \"attention_mask\" : attention_mask\n",
    "        }        "
   ]
  },
  {
   "cell_type": "code",
   "execution_count": 8,
   "metadata": {},
   "outputs": [
    {
     "ename": "ModuleNotFoundError",
     "evalue": "No module named 'common.nn.denoisers'",
     "output_type": "error",
     "traceback": [
      "\u001b[1;31m---------------------------------------------------------------------------\u001b[0m",
      "\u001b[1;31mModuleNotFoundError\u001b[0m                       Traceback (most recent call last)",
      "Input \u001b[1;32mIn [8]\u001b[0m, in \u001b[0;36m<cell line: 1>\u001b[1;34m()\u001b[0m\n\u001b[1;32m----> 1\u001b[0m \u001b[38;5;28;01mfrom\u001b[39;00m \u001b[38;5;21;01mcommon\u001b[39;00m\u001b[38;5;21;01m.\u001b[39;00m\u001b[38;5;21;01mnn\u001b[39;00m\u001b[38;5;21;01m.\u001b[39;00m\u001b[38;5;21;01mdenoisers\u001b[39;00m \u001b[38;5;28;01mimport\u001b[39;00m (\n\u001b[0;32m      2\u001b[0m     ConditionedRectFlowTransformer,\n\u001b[0;32m      3\u001b[0m     CLIPConditioner\n\u001b[0;32m      4\u001b[0m )\n\u001b[0;32m      5\u001b[0m \u001b[38;5;28;01mfrom\u001b[39;00m \u001b[38;5;21;01mcommon\u001b[39;00m\u001b[38;5;21;01m.\u001b[39;00m\u001b[38;5;21;01mconfigs\u001b[39;00m \u001b[38;5;28;01mimport\u001b[39;00m ViTConfig\n\u001b[0;32m      7\u001b[0m \u001b[38;5;28;01mfrom\u001b[39;00m \u001b[38;5;21;01mtransformers\u001b[39;00m \u001b[38;5;28;01mimport\u001b[39;00m CLIPTextModel, CLIPTokenizer\n",
      "\u001b[1;31mModuleNotFoundError\u001b[0m: No module named 'common.nn.denoisers'"
     ]
    }
   ],
   "source": [
    "from common.nn.denoisers import (\n",
    "    ConditionedRectFlowTransformer,\n",
    "    CLIPConditioner\n",
    ")\n",
    "from common.configs import ViTConfig\n",
    "\n",
    "from transformers import CLIPTextModel, CLIPTokenizer\n",
    "\n",
    "clip_id = \"openai/clip-vit-base-patch32\"\n",
    "tokenizer = CLIPTokenizer.from_pretrained(clip_id)\n",
    "clip_lm = CLIPTextModel.from_pretrained(clip_id)\n",
    "\n",
    "text_encoder = CLIPConditioner(clip_lm, tokenizer, layer_skip = -2, hidden_size = 512)\n",
    "\n",
    "config = ViTConfig(\n",
    "    n_layers = 12,\n",
    "    n_heads = 12,\n",
    "    hidden_size = 768,\n",
    "    input_shape = (3, 32, 32),\n",
    "    patching = (4, 4)\n",
    ")\n",
    "\n",
    "denoiser = ConditionedRectFlowTransformer(\n",
    "    config,\n",
    "    text_encoder\n",
    ")"
   ]
  },
  {
   "cell_type": "code",
   "execution_count": null,
   "metadata": {},
   "outputs": [],
   "source": [
    "# Test singular forward pass to compute loss\n",
    "ds = PokemonDataset()\n",
    "dc = PokemonCollator(tokenizer)\n",
    "\n",
    "import torch.utils.data\n",
    "\n",
    "loader = DataLoader(ds, collate_fn = dc, batch_size = 4)\n",
    "\n",
    "batch = next(iter(loader))\n",
    "loss = denoiser(**batch)\n",
    "print(loss.item())"
   ]
  },
  {
   "cell_type": "code",
   "execution_count": null,
   "metadata": {},
   "outputs": [],
   "source": [
    "from common.trainer import Trainer\n",
    "from common.configs import ProjectConfig, TrainConfig, LoggingConfig\n",
    "\n",
    "config = ProjectConfig(\n",
    "    TrainConfig(\n",
    "        batch_size = 4, target_batch = 4,\n",
    "        epochs = 20,\n",
    "        save_every = 9999,\n",
    "        sample_every = 101,\n",
    "        eval_every = 1000,\n",
    "        checkpoint_dir = \"./pokemon_rft_out\",\n",
    "        train_state_checkpoint = \"./trainer_state\",\n",
    "        resume = False\n",
    "    ),\n",
    "    LoggingConfig(\n",
    "        run_name = \"Pokemon Test\",\n",
    "    )\n",
    ")\n",
    "\n",
    "trainer = Trainer(\n",
    "    denoiser,\n",
    "    ds, dc,\n",
    "    config = \n",
    ")"
   ]
  },
  {
   "cell_type": "code",
   "execution_count": null,
   "metadata": {},
   "outputs": [],
   "source": [
    "import torch\n",
    "\n",
    "opt = torch.optim.AdamW(denoiser.parameters(), lr = 1.0e-4)\n",
    "\n",
    "EPOCHS = 10\n",
    "\n",
    "for epoch in range(EPOCHS):\n",
    "    for batch in loader:\n",
    "        loss = denoiser(**batch)\n",
    "        opt.zero_grad()\n",
    "        loss.backward()\n",
    "        opt.step()\n",
    "\n",
    "        print(loss.item())"
   ]
  }
 ],
 "metadata": {
  "kernelspec": {
   "display_name": "Python 3 (ipykernel)",
   "language": "python",
   "name": "python3"
  },
  "language_info": {
   "codemirror_mode": {
    "name": "ipython",
    "version": 3
   },
   "file_extension": ".py",
   "mimetype": "text/x-python",
   "name": "python",
   "nbconvert_exporter": "python",
   "pygments_lexer": "ipython3",
   "version": "3.10.4"
  }
 },
 "nbformat": 4,
 "nbformat_minor": 2
}
